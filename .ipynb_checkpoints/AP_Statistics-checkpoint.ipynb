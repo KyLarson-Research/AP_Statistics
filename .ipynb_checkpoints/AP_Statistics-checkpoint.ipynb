{
 "cells": [
  {
   "cell_type": "code",
   "execution_count": 32,
   "metadata": {},
   "outputs": [],
   "source": [
    "#Filename: AP_Statistics.ipynb\n",
    "#Author: Kyle Carlton Larson\n",
    "#Purpose: Refreshing statistics knowledge with Confidence Interval Practice\n",
    "import scipy.stats as st\n",
    "from math import sqrt\n",
    "#https://stackoverflow.com/questions/20864847/probability-to-z-score-and-vice-versa\n",
    "\n",
    "alpha = 0.05\n",
    "sigma = 1 #population standard deviation\n",
    "n = 1 #test sample size \n",
    "sample_mean = 0\n",
    "#remember talways use sigma over sqrt n in CIs\n",
    "#because as you take more samples into account, the probability of encapsulating population mean increases\n",
    "#**When the population standard deviation is known, the formula for a confidence interval (CI) \n",
    "#for a population mean is [line 19 below]\n",
    "# n is the sample size, and z* represents the appropriate z*-value from the standard normal distribution\n",
    "#for your desired confidence level.\n",
    "def Z_alpha_over_two(_sigma, _n):\n",
    "    return (_sigma/sqrt(_n) ) * st.norm.ppf(1-alpha/2)\n",
    "#%(1-alpha) confidence that population mean is within the interval\n",
    "lowerbound = sample_mean - Z_alpha_over_two(sigma, n) #to put apha/2 in each tail of curve\n",
    "upperbound = sample_mean + Z_alpha_over_two(sigma, n)\n"
   ]
  },
  {
   "cell_type": "code",
   "execution_count": 33,
   "metadata": {},
   "outputs": [
    {
     "name": "stdout",
     "output_type": "stream",
     "text": [
      "1.6448536269514722\n",
      "0.9494974165258963\n"
     ]
    }
   ],
   "source": [
    "print(st.norm.ppf(.95))\n",
    "print(st.norm.cdf(1.64))"
   ]
  },
  {
   "cell_type": "code",
   "execution_count": 34,
   "metadata": {},
   "outputs": [
    {
     "name": "stdout",
     "output_type": "stream",
     "text": [
      "lower:-1.959963984540054\n",
      "upper:1.959963984540054\n"
     ]
    }
   ],
   "source": [
    "print('lower:'+str(lowerbound))\n",
    "print('upper:'+str(upperbound))"
   ]
  },
  {
   "cell_type": "code",
   "execution_count": 44,
   "metadata": {},
   "outputs": [],
   "source": [
    "#the above seems narrow and the upper is above the lower which doesnt make sense\n",
    "#**https://www.dummies.com/\n",
    "#education/math/statistics/\n",
    "#how-to-calculate-a-confidence-interval-for-a-population-mean-when-you-know-its-standard-deviation/\n",
    "#\n",
    "#Going to try n>30 as per CLT\n",
    "n=31\n",
    "lowerbound = sample_mean - Z_alpha_over_two(sigma, n) #to put apha/2 in each tail of curve\n",
    "upperbound = sample_mean + Z_alpha_over_two(sigma, n)"
   ]
  },
  {
   "cell_type": "code",
   "execution_count": 45,
   "metadata": {},
   "outputs": [
    {
     "name": "stdout",
     "output_type": "stream",
     "text": [
      "lower:-0.3520199234049176\n",
      "upper:0.3520199234049176\n"
     ]
    }
   ],
   "source": [
    "print('lower:'+str(lowerbound))\n",
    "print('upper:'+str(upperbound))"
   ]
  },
  {
   "cell_type": "code",
   "execution_count": null,
   "metadata": {},
   "outputs": [],
   "source": [
    "#this result makes sense because, as the number of samples increases ,\n",
    "#either the confidence that the population mean is within an interval either increases \n",
    "#or the interval becomes narrower\n"
   ]
  },
  {
   "cell_type": "code",
   "execution_count": 12,
   "metadata": {},
   "outputs": [
    {
     "name": "stdout",
     "output_type": "stream",
     "text": [
      "[-8.4 -8.4 -7.4 -7.4 -5.4 -4.4 -3.4  1.6  2.6  4.6  5.6  6.6  7.6  7.6\n",
      "  8.6]\n",
      "1.6981782956478757\n",
      "1.6981782956478755\n",
      "(16.75776979778498, 24.042230202215016)\n"
     ]
    }
   ],
   "source": [
    "#as per the following reference: https://www.statology.org/confidence-intervals-python/\n",
    "import numpy as np\n",
    "import scipy.stats as st\n",
    "from math import sqrt\n",
    "#in the instance that sigma^2, the population variance is unknown, \n",
    "#define sample data\n",
    "data = [12, 12, 13, 13, 15, 16, 17, 22, 23, 25, 26, 27, 28, 28, 29]\n",
    "\n",
    "#create 95% confidence interval for population mean weight\n",
    "print(data[:]-np.mean(data))\n",
    "print(sqrt( (sum((data[:]-np.mean(data))**2))/(len(data)-1) )/sqrt(len(data)))\n",
    "print(st.sem(data))\n",
    "print(st.t.interval(alpha=0.95, df=len(data)-1, loc=np.mean(data), scale=st.sem(data)) )\n",
    "\n",
    "\n"
   ]
  },
  {
   "cell_type": "code",
   "execution_count": 21,
   "metadata": {},
   "outputs": [
    {
     "data": {
      "text/plain": [
       "(101.94136888298902, 114.05863111701098)"
      ]
     },
     "execution_count": 21,
     "metadata": {},
     "output_type": "execute_result"
    }
   ],
   "source": [
    "#to check this against the Quick Study Reference Guide \"Worlds #1 Outline\"\n",
    "xbar=108\n",
    "s=15 # to get the sample standard error from the standard deviviation, divide S by sqrt(n)\n",
    "n=26 \n",
    "confidence_level =0.95\n",
    "st.t.interval(alpha=confidence_level, df=n-1, loc=xbar, scale=(s/sqrt(n))) #st.sem(data) being standard error is s\n",
    "# the interval to validate against is 102 to 114"
   ]
  },
  {
   "cell_type": "code",
   "execution_count": null,
   "metadata": {},
   "outputs": [],
   "source": [
    "#this checks out"
   ]
  },
  {
   "cell_type": "code",
   "execution_count": 41,
   "metadata": {},
   "outputs": [
    {
     "data": {
      "text/plain": [
       "(-0.3668029613349472, 0.3668029613349472)"
      ]
     },
     "execution_count": 41,
     "metadata": {},
     "output_type": "execute_result"
    }
   ],
   "source": [
    "#to check the manual method at the top of this notebook\n",
    "xbar=0\n",
    "s=1 # to get the sample standard error from the standard deviviation, divide S by sqrt(n)\n",
    "n=31 \n",
    "confidence_level =1-alpha\n",
    "st.t.interval(alpha=confidence_level, df=n-1, loc=xbar, scale=(s/sqrt(n)))"
   ]
  },
  {
   "cell_type": "code",
   "execution_count": 47,
   "metadata": {},
   "outputs": [
    {
     "name": "stdout",
     "output_type": "stream",
     "text": [
      "lower:-0.25303026237633197\n",
      "upper:0.25303026237633197\n"
     ]
    },
    {
     "data": {
      "text/plain": [
       "(-0.2583273923715249, 0.2583273923715249)"
      ]
     },
     "execution_count": 47,
     "metadata": {},
     "output_type": "execute_result"
    }
   ],
   "source": [
    "#what if n is 60\n",
    "n=60\n",
    "lowerbound = sample_mean - Z_alpha_over_two(sigma, n) #to put apha/2 in each tail of curve\n",
    "upperbound = sample_mean + Z_alpha_over_two(sigma, n)\n",
    "print('lower:'+str(lowerbound))\n",
    "print('upper:'+str(upperbound))\n",
    "#to check the manual method at the top of this notebook\n",
    "xbar=0\n",
    "s=1 # to get the sample standard error from the standard deviviation, divide S by sqrt(n)\n",
    "confidence_level =1-alpha\n",
    "st.t.interval(alpha=confidence_level, df=n-1, loc=xbar, scale=(s/sqrt(n)))"
   ]
  },
  {
   "cell_type": "code",
   "execution_count": 49,
   "metadata": {},
   "outputs": [
    {
     "name": "stdout",
     "output_type": "stream",
     "text": [
      "lower:-0.17891941437171568\n",
      "upper:0.17891941437171568\n"
     ]
    },
    {
     "data": {
      "text/plain": [
       "(-0.1807575614052859, 0.1807575614052859)"
      ]
     },
     "execution_count": 49,
     "metadata": {},
     "output_type": "execute_result"
    }
   ],
   "source": [
    "#what if n is 900\n",
    "n=120\n",
    "lowerbound = sample_mean - Z_alpha_over_two(sigma, n) #to put apha/2 in each tail of curve\n",
    "upperbound = sample_mean + Z_alpha_over_two(sigma, n)\n",
    "print('lower:'+str(lowerbound))\n",
    "print('upper:'+str(upperbound))\n",
    "#to check the manual method at the top of this notebook\n",
    "xbar=0\n",
    "s=1 # to get the sample standard error from the standard deviviation, divide S by sqrt(n)\n",
    "confidence_level =1-alpha\n",
    "st.t.interval(alpha=confidence_level, df=n-1, loc=xbar, scale=(s/sqrt(n)))"
   ]
  },
  {
   "cell_type": "code",
   "execution_count": 50,
   "metadata": {},
   "outputs": [
    {
     "name": "stdout",
     "output_type": "stream",
     "text": [
      "lower:-0.03578388287434314\n",
      "upper:0.03578388287434314\n"
     ]
    },
    {
     "data": {
      "text/plain": [
       "(-0.035798330602566444, 0.035798330602566444)"
      ]
     },
     "execution_count": 50,
     "metadata": {},
     "output_type": "execute_result"
    }
   ],
   "source": [
    "#what if n is 3000\n",
    "n=3000\n",
    "lowerbound = sample_mean - Z_alpha_over_two(sigma, n) #to put apha/2 in each tail of curve\n",
    "upperbound = sample_mean + Z_alpha_over_two(sigma, n)\n",
    "print('lower:'+str(lowerbound))\n",
    "print('upper:'+str(upperbound))\n",
    "#to check the manual method at the top of this notebook\n",
    "xbar=0\n",
    "s=1 # to get the sample standard error from the standard deviviation, divide S by sqrt(n)\n",
    "confidence_level =1-alpha\n",
    "st.t.interval(alpha=confidence_level, df=n-1, loc=xbar, scale=(s/sqrt(n)))"
   ]
  },
  {
   "cell_type": "code",
   "execution_count": null,
   "metadata": {},
   "outputs": [],
   "source": []
  }
 ],
 "metadata": {
  "kernelspec": {
   "display_name": "Python 3",
   "language": "python",
   "name": "python3"
  },
  "language_info": {
   "codemirror_mode": {
    "name": "ipython",
    "version": 3
   },
   "file_extension": ".py",
   "mimetype": "text/x-python",
   "name": "python",
   "nbconvert_exporter": "python",
   "pygments_lexer": "ipython3",
   "version": "3.7.6"
  }
 },
 "nbformat": 4,
 "nbformat_minor": 4
}

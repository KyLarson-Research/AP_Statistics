{
 "cells": [
  {
   "cell_type": "code",
   "execution_count": 10,
   "metadata": {},
   "outputs": [
    {
     "name": "stdout",
     "output_type": "stream",
     "text": [
      "1.959963984540054\n",
      "384.14588206941244\n"
     ]
    }
   ],
   "source": [
    "# AP_Stats_SampleSize\n",
    "# Author: Kyle Larson\n",
    "# Purpose Stats Practice Chochram's Sample Size formula\n",
    "#https://www.statisticshowto.com/probability-and-statistics/find-sample-size/\n",
    "import scipy.stats as st\n",
    "from math import sqrt\n",
    "confidence = .975\n",
    "desired_width = 0.05\n",
    "e = 0.5 #estimated proportion of attribute being tested\n",
    "n =  (st.norm.ppf(confidence)**2)*(e)*(1-e) / desired_width**2\n",
    "print(st.norm.ppf(confidence))\n",
    "print(n)"
   ]
  },
  {
   "cell_type": "code",
   "execution_count": null,
   "metadata": {},
   "outputs": [],
   "source": [
    "#385 is the correct answer"
   ]
  },
  {
   "cell_type": "code",
   "execution_count": null,
   "metadata": {},
   "outputs": [],
   "source": [
    "#Suppose you have a normally distributed variable with known variance. \n",
    "#How many standard errors do you need to add and subtract from the sample mean \n",
    "#so that you obtain 95% confidence intervals?\n",
    "#1.95666.. see above"
   ]
  },
  {
   "cell_type": "code",
   "execution_count": 67,
   "metadata": {},
   "outputs": [],
   "source": [
    "#An automotive engineer wants to estimate the cost of repairing a car that experiences a 25 MPH head-on collision. He crashes 24 cars, and the average repair is $11,000. The standard deviation of the 24-car sample is $2,500.\n",
    "import scipy.stats as st\n",
    "from math import sqrt\n",
    "xbar=11000\n",
    "n=24\n",
    "sig=2500\n",
    "confidence = .98\n",
    "SEM = (sig)/sqrt(n) #df=n-1,\n",
    "half_Width = st.norm.ppf(1-(1-confidence)/2)*SEM"
   ]
  },
  {
   "cell_type": "code",
   "execution_count": 68,
   "metadata": {},
   "outputs": [
    {
     "name": "stdout",
     "output_type": "stream",
     "text": [
      "1187.1594282517692\n"
     ]
    }
   ],
   "source": [
    "print(half_Width)#actual answer was 1188.77"
   ]
  },
  {
   "cell_type": "code",
   "execution_count": 1,
   "metadata": {},
   "outputs": [
    {
     "name": "stdout",
     "output_type": "stream",
     "text": [
      "1.959963984540054\n",
      "1067.0718946372572\n"
     ]
    }
   ],
   "source": [
    "#The next local election is predicted to have a 50:50 split in votes for the top two candidates. \n",
    "#How many people should be polled to obtain a margin of error of 3% at the 95% confidence level?\n",
    "import scipy.stats as st\n",
    "from math import sqrt\n",
    "confidence = 0.975\n",
    "desired_width = 0.03\n",
    "e = 0.5 #estimated proportion of attribute being tested\n",
    "n =  (st.norm.ppf(confidence)**2)*(e)*(1-e) / desired_width**2\n",
    "print(st.norm.ppf(confidence))\n",
    "print(n) #answer is 1067"
   ]
  },
  {
   "cell_type": "code",
   "execution_count": 20,
   "metadata": {},
   "outputs": [
    {
     "name": "stdout",
     "output_type": "stream",
     "text": [
      "[13.5, 8.0, 10.0, 1.2000000000000002]\n"
     ]
    }
   ],
   "source": [
    "import numpy as np\n",
    "rob = [45, 40, 25, 12] \n",
    "prob = [.3, .2, .4, .1] \n",
    "\n",
    "robprob = []\n",
    "if(len(rob)==len(prob)):\n",
    "    for r in range(len(rob)):\n",
    "        robprob = robprob + [rob[r]*prob[r]]\n",
    "print(robprob)"
   ]
  },
  {
   "cell_type": "code",
   "execution_count": 23,
   "metadata": {},
   "outputs": [
    {
     "name": "stdout",
     "output_type": "stream",
     "text": [
      "32.7\n"
     ]
    }
   ],
   "source": [
    "Xbar = sum(robprob)\n",
    "print(Xbar)"
   ]
  },
  {
   "cell_type": "code",
   "execution_count": 26,
   "metadata": {},
   "outputs": [
    {
     "name": "stdout",
     "output_type": "stream",
     "text": [
      "122.61000000000001\n"
     ]
    }
   ],
   "source": [
    "var = 0\n",
    "for i in range(len(rob)):\n",
    "    var = var + ((rob[i]-Xbar)**2)*prob[i]\n",
    "\n",
    "print(var)"
   ]
  },
  {
   "cell_type": "code",
   "execution_count": 28,
   "metadata": {},
   "outputs": [
    {
     "name": "stdout",
     "output_type": "stream",
     "text": [
      "0.41666666666666663\n"
     ]
    }
   ],
   "source": [
    "P5 = 4/36\n",
    "P6 = 5/36\n",
    "P7 = 6/36\n",
    "print(P5+P6+P7)"
   ]
  },
  {
   "cell_type": "code",
   "execution_count": 31,
   "metadata": {},
   "outputs": [
    {
     "data": {
      "text/plain": [
       "0.4166666666666667"
      ]
     },
     "execution_count": 31,
     "metadata": {},
     "output_type": "execute_result"
    }
   ],
   "source": [
    "5/12"
   ]
  },
  {
   "cell_type": "code",
   "execution_count": 32,
   "metadata": {},
   "outputs": [
    {
     "data": {
      "text/plain": [
       "1.6"
      ]
     },
     "execution_count": 32,
     "metadata": {},
     "output_type": "execute_result"
    }
   ],
   "source": [
    "8/5"
   ]
  },
  {
   "cell_type": "code",
   "execution_count": 33,
   "metadata": {},
   "outputs": [
    {
     "data": {
      "text/plain": [
       "1.5"
      ]
     },
     "execution_count": 33,
     "metadata": {},
     "output_type": "execute_result"
    }
   ],
   "source": [
    "12/8"
   ]
  },
  {
   "cell_type": "code",
   "execution_count": 34,
   "metadata": {},
   "outputs": [
    {
     "data": {
      "text/plain": [
       "0.945200708300442"
      ]
     },
     "execution_count": 34,
     "metadata": {},
     "output_type": "execute_result"
    }
   ],
   "source": [
    "import scipy.stats as st\n",
    "st.norm.cdf(1.6)"
   ]
  },
  {
   "cell_type": "code",
   "execution_count": 35,
   "metadata": {},
   "outputs": [
    {
     "data": {
      "text/plain": [
       "0.9331927987311419"
      ]
     },
     "execution_count": 35,
     "metadata": {},
     "output_type": "execute_result"
    }
   ],
   "source": [
    "import scipy.stats as st\n",
    "st.norm.cdf(1.5)"
   ]
  },
  {
   "cell_type": "code",
   "execution_count": 49,
   "metadata": {},
   "outputs": [
    {
     "data": {
      "text/plain": [
       "0.43347012036670896"
      ]
     },
     "execution_count": 49,
     "metadata": {},
     "output_type": "execute_result"
    }
   ],
   "source": [
    "#poisson dist\n",
    "st.poisson.cdf(3, 4)"
   ]
  },
  {
   "cell_type": "code",
   "execution_count": 51,
   "metadata": {},
   "outputs": [
    {
     "name": "stdout",
     "output_type": "stream",
     "text": [
      "0.19536681481316456\n"
     ]
    }
   ],
   "source": [
    "#poisson process\n",
    "import math as m\n",
    "mew = 4\n",
    "k = 3\n",
    "poisson = ( ( m.exp(-1*mew) )*(mew**k) ) / (m.factorial(k))\n",
    "print(poisson)"
   ]
  },
  {
   "cell_type": "code",
   "execution_count": 53,
   "metadata": {},
   "outputs": [
    {
     "data": {
      "text/plain": [
       "108.2"
      ]
     },
     "execution_count": 53,
     "metadata": {},
     "output_type": "execute_result"
    }
   ],
   "source": [
    "13.2+95"
   ]
  },
  {
   "cell_type": "code",
   "execution_count": 56,
   "metadata": {},
   "outputs": [
    {
     "data": {
      "text/plain": [
       "0.9500150944608786"
      ]
     },
     "execution_count": 56,
     "metadata": {},
     "output_type": "execute_result"
    }
   ],
   "source": [
    "st.norm.cdf(1.645)"
   ]
  },
  {
   "cell_type": "code",
   "execution_count": 55,
   "metadata": {},
   "outputs": [
    {
     "data": {
      "text/plain": [
       "4.8"
      ]
     },
     "execution_count": 55,
     "metadata": {},
     "output_type": "execute_result"
    }
   ],
   "source": [
    "24/5"
   ]
  },
  {
   "cell_type": "code",
   "execution_count": 71,
   "metadata": {},
   "outputs": [
    {
     "data": {
      "text/plain": [
       "[3.3529608643710387, 3.447039135628961]"
      ]
     },
     "execution_count": 71,
     "metadata": {},
     "output_type": "execute_result"
    }
   ],
   "source": [
    "[3.4-.024*st.norm.ppf(.975), 3.4+.024*st.norm.ppf(.975)] # 3.35 and 3.45"
   ]
  },
  {
   "cell_type": "code",
   "execution_count": null,
   "metadata": {},
   "outputs": [],
   "source": []
  }
 ],
 "metadata": {
  "kernelspec": {
   "display_name": "Python 3",
   "language": "python",
   "name": "python3"
  },
  "language_info": {
   "codemirror_mode": {
    "name": "ipython",
    "version": 3
   },
   "file_extension": ".py",
   "mimetype": "text/x-python",
   "name": "python",
   "nbconvert_exporter": "python",
   "pygments_lexer": "ipython3",
   "version": "3.7.6"
  }
 },
 "nbformat": 4,
 "nbformat_minor": 4
}

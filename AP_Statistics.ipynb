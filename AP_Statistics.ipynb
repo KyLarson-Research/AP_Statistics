{
 "cells": [
  {
   "cell_type": "code",
   "execution_count": 10,
   "metadata": {},
   "outputs": [],
   "source": [
    "#Filename: AP_Statistics.ipynb\n",
    "#Author: Kyle Carlton Larson\n",
    "#Purpose: Refreshing statistics knowledge with Confidence Interval Practice\n",
    "import scipy.stats as st\n",
    "from math import sqrt\n",
    "#https://stackoverflow.com/questions/20864847/probability-to-z-score-and-vice-versa\n",
    "\n",
    "alpha = 0.05\n",
    "sigma = 1 #population standard deviation\n",
    "n = 1 #test sample size \n",
    "sample_mean = 0\n",
    "#remember talways use sigma over sqrt n in CIs\n",
    "#because as you take more samples into account, the probability of encapsulating population mean increases\n",
    "def Z_alpha_over_two(_sigma, _n):\n",
    "    return (_sigma/sqrt(_n) ) * st.norm.ppf((1-alpha)/2)\n",
    "#%(1-alpha) confidence that population mean is within the interval\n",
    "lowerbound = sample_mean - Z_alpha_over_two(sigma, n) #to put apha/2 in each tail of curve\n",
    "upperbound = sample_mean + Z_alpha_over_two(sigma, n)\n"
   ]
  },
  {
   "cell_type": "code",
   "execution_count": 6,
   "metadata": {},
   "outputs": [
    {
     "name": "stdout",
     "output_type": "stream",
     "text": [
      "1.6448536269514722\n",
      "0.9494974165258963\n"
     ]
    }
   ],
   "source": [
    "print(st.norm.ppf(.95))\n",
    "print(st.norm.cdf(1.64))"
   ]
  },
  {
   "cell_type": "code",
   "execution_count": 11,
   "metadata": {},
   "outputs": [
    {
     "name": "stdout",
     "output_type": "stream",
     "text": [
      "lower:0.06270677794321385\n",
      "upper:-0.06270677794321385\n"
     ]
    }
   ],
   "source": [
    "print('lower:'+str(lowerbound))\n",
    "print('upper:'+str(upperbound))"
   ]
  },
  {
   "cell_type": "code",
   "execution_count": null,
   "metadata": {},
   "outputs": [],
   "source": [
    "#the above seems narrow and the upper is above the lower which doesnt make sense"
   ]
  }
 ],
 "metadata": {
  "kernelspec": {
   "display_name": "Python 3",
   "language": "python",
   "name": "python3"
  },
  "language_info": {
   "codemirror_mode": {
    "name": "ipython",
    "version": 3
   },
   "file_extension": ".py",
   "mimetype": "text/x-python",
   "name": "python",
   "nbconvert_exporter": "python",
   "pygments_lexer": "ipython3",
   "version": "3.7.6"
  }
 },
 "nbformat": 4,
 "nbformat_minor": 4
}

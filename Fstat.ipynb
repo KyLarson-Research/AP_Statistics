{
 "cells": [
  {
   "cell_type": "code",
   "execution_count": 2,
   "metadata": {},
   "outputs": [
    {
     "data": {
      "text/plain": [
       "1.6448536269514722"
      ]
     },
     "execution_count": 2,
     "metadata": {},
     "output_type": "execute_result"
    }
   ],
   "source": [
    "#Fstat.ipynb\n",
    "#Author Kyle C Larson\n",
    "#For practice in F stat, H test error probability, and chi-squared\n",
    "from scipy import stats as st\n",
    "st.norm.ppf(0.95) #1.645 so far so good"
   ]
  },
  {
   "cell_type": "code",
   "execution_count": 3,
   "metadata": {},
   "outputs": [],
   "source": [
    "from math import sqrt\n",
    "n1 = 240\n",
    "n2 = n1\n",
    "mean = (688+611)/2\n",
    "stdev = sqrt( 66**2 / n1 + 61**2 / n2 )"
   ]
  },
  {
   "cell_type": "code",
   "execution_count": 4,
   "metadata": {},
   "outputs": [
    {
     "name": "stdout",
     "output_type": "stream",
     "text": [
      "0.26478830643029205\n",
      "649.5\n"
     ]
    }
   ],
   "source": [
    "sem =stdev/sqrt(n1+n2)\n",
    "print(sem)\n",
    "print(mean)"
   ]
  },
  {
   "cell_type": "code",
   "execution_count": 5,
   "metadata": {},
   "outputs": [
    {
     "data": {
      "text/plain": [
       "0.32756995105812603"
      ]
     },
     "execution_count": 5,
     "metadata": {},
     "output_type": "execute_result"
    }
   ],
   "source": [
    "st.f.ppf(0.95, 240, 240, 0, sem)"
   ]
  },
  {
   "cell_type": "code",
   "execution_count": 6,
   "metadata": {},
   "outputs": [
    {
     "data": {
      "text/plain": [
       "24.0"
      ]
     },
     "execution_count": 6,
     "metadata": {},
     "output_type": "execute_result"
    }
   ],
   "source": [
    "from scipy import special as sp\n",
    "sp.gamma(5) #(5-1)!=4*3*2*1"
   ]
  },
  {
   "cell_type": "code",
   "execution_count": 7,
   "metadata": {},
   "outputs": [
    {
     "data": {
      "text/plain": [
       "2.718281828459045"
      ]
     },
     "execution_count": 7,
     "metadata": {},
     "output_type": "execute_result"
    }
   ],
   "source": [
    "from math import exp\n",
    "exp(1) #2.718"
   ]
  },
  {
   "cell_type": "code",
   "execution_count": 15,
   "metadata": {},
   "outputs": [
    {
     "name": "stdout",
     "output_type": "stream",
     "text": [
      "0.615234375\n"
     ]
    }
   ],
   "source": [
    "#this should supposedly be equivalent to the ratio of two chi-squared distributions\n",
    "\n",
    "def fdist(confidence, n1, n2):\n",
    "    chisq1=sp.gamma((n1+n2)/2)*((n1/n2)**(n1/2))*confidence**(-1+n1/2)\n",
    "    chisq2=(sp.gamma(n1/2))*(sp.gamma(n2/2))*(1+n1*confidence/n2)**((n1+n2)/2)\n",
    "    return chisq1/chisq2\n",
    "\n",
    "print(fdist(1, 10, 10))"
   ]
  },
  {
   "cell_type": "code",
   "execution_count": 17,
   "metadata": {},
   "outputs": [
    {
     "name": "stdout",
     "output_type": "stream",
     "text": [
      "(0.9106849205200009, 1.0422423362346145e-08)\n"
     ]
    }
   ],
   "source": [
    "#in order to make use of the fdistribution you need to \n",
    "import scipy.integrate as integrate\n",
    "result = integrate.quad(lambda x: fdist(x, 30, 30), 0, 1.645)\n",
    "print(result)"
   ]
  },
  {
   "cell_type": "code",
   "execution_count": 18,
   "metadata": {},
   "outputs": [
    {
     "name": "stdout",
     "output_type": "stream",
     "text": [
      "(0.993242123793514, 9.718590892256333e-12)\n"
     ]
    }
   ],
   "source": [
    "#in order to make use of the fdistribution you need to \n",
    "import scipy.integrate as integrate\n",
    "result = integrate.quad(lambda x: fdist(x, 100, 100), 0, 1.645)\n",
    "print(result)"
   ]
  },
  {
   "cell_type": "code",
   "execution_count": 20,
   "metadata": {},
   "outputs": [
    {
     "name": "stdout",
     "output_type": "stream",
     "text": [
      "(0.7008925022485712, 7.628475628962406e-11)\n"
     ]
    }
   ],
   "source": [
    "import scipy.integrate as integrate\n",
    "result = integrate.quad(lambda x: fdist(x, 5, 5), 0, 1.645)\n",
    "print(result)"
   ]
  },
  {
   "cell_type": "code",
   "execution_count": 21,
   "metadata": {},
   "outputs": [
    {
     "name": "stdout",
     "output_type": "stream",
     "text": [
      "(0.9499926518604394, 3.601526854524195e-10)\n"
     ]
    }
   ],
   "source": [
    "#https://online.stat.psu.edu/stat415/lesson/4/4.2\n",
    "import scipy.integrate as integrate\n",
    "result = integrate.quad(lambda x: fdist(x, 1, 1), 0, 161.4)\n",
    "print(result)"
   ]
  },
  {
   "cell_type": "code",
   "execution_count": 22,
   "metadata": {},
   "outputs": [
    {
     "name": "stdout",
     "output_type": "stream",
     "text": [
      "(0.9900003626130796, 1.1781971433495637e-09)\n"
     ]
    }
   ],
   "source": [
    "#to validate 2, 7\n",
    "#https://online.stat.psu.edu/stat415/lesson/4/4.2\n",
    "import scipy.integrate as integrate\n",
    "result = integrate.quad(lambda x: fdist(x, 7, 2), 0, 99.36)\n",
    "print(result)"
   ]
  },
  {
   "cell_type": "code",
   "execution_count": null,
   "metadata": {},
   "outputs": [],
   "source": []
  }
 ],
 "metadata": {
  "kernelspec": {
   "display_name": "Python 3",
   "language": "python",
   "name": "python3"
  },
  "language_info": {
   "codemirror_mode": {
    "name": "ipython",
    "version": 3
   },
   "file_extension": ".py",
   "mimetype": "text/x-python",
   "name": "python",
   "nbconvert_exporter": "python",
   "pygments_lexer": "ipython3",
   "version": "3.7.6"
  }
 },
 "nbformat": 4,
 "nbformat_minor": 4
}

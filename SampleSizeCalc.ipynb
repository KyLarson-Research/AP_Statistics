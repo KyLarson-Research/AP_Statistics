{
 "cells": [
  {
   "cell_type": "code",
   "execution_count": 10,
   "metadata": {},
   "outputs": [
    {
     "name": "stdout",
     "output_type": "stream",
     "text": [
      "1.959963984540054\n",
      "384.14588206941244\n"
     ]
    }
   ],
   "source": [
    "# AP_Stats_SampleSize\n",
    "# Author: Kyle Larson\n",
    "# Purpose Stats Practice Chochram's Sample Size formula\n",
    "#https://www.statisticshowto.com/probability-and-statistics/find-sample-size/\n",
    "import scipy.stats as st\n",
    "from math import sqrt\n",
    "confidence = .975\n",
    "desired_width = 0.05\n",
    "e = 0.5 #estimated proportion of attribute being tested\n",
    "n =  (st.norm.ppf(confidence)**2)*(e)*(1-e) / desired_width**2\n",
    "print(st.norm.ppf(confidence))\n",
    "print(n)"
   ]
  },
  {
   "cell_type": "code",
   "execution_count": null,
   "metadata": {},
   "outputs": [],
   "source": [
    "#384 is the correct answer"
   ]
  },
  {
   "cell_type": "code",
   "execution_count": null,
   "metadata": {},
   "outputs": [],
   "source": [
    "#Suppose you have a normally distributed variable with known variance. \n",
    "#How many standard errors do you need to add and subtract from the sample mean \n",
    "#so that you obtain 95% confidence intervals?\n",
    "#1.95666.. see above"
   ]
  },
  {
   "cell_type": "code",
   "execution_count": 34,
   "metadata": {},
   "outputs": [],
   "source": [
    "#An automotive engineer wants to estimate the cost of repairing a car that experiences a 25 MPH head-on collision. He crashes 24 cars, and the average repair is $11,000. The standard deviation of the 24-car sample is $2,500.\n",
    "import scipy.stats as st\n",
    "from math import sqrt\n",
    "xbar=11000\n",
    "n=24\n",
    "sig=2500\n",
    "confidence = .98\n",
    "SEM = sqrt( (sig)/sqrt(n) )#df=n-1,\n",
    "half_Width = st.norm.interval(alpha=confidence,  loc=xbar, scale=SEM)"
   ]
  },
  {
   "cell_type": "code",
   "execution_count": 35,
   "metadata": {},
   "outputs": [
    {
     "name": "stdout",
     "output_type": "stream",
     "text": [
      "52.55231500191985\n"
     ]
    }
   ],
   "source": [
    "print(half_Width[1]-xbar)"
   ]
  },
  {
   "cell_type": "code",
   "execution_count": null,
   "metadata": {},
   "outputs": [],
   "source": []
  }
 ],
 "metadata": {
  "kernelspec": {
   "display_name": "Python 3",
   "language": "python",
   "name": "python3"
  },
  "language_info": {
   "codemirror_mode": {
    "name": "ipython",
    "version": 3
   },
   "file_extension": ".py",
   "mimetype": "text/x-python",
   "name": "python",
   "nbconvert_exporter": "python",
   "pygments_lexer": "ipython3",
   "version": "3.7.6"
  }
 },
 "nbformat": 4,
 "nbformat_minor": 4
}

{
 "cells": [
  {
   "cell_type": "code",
   "execution_count": 1,
   "metadata": {},
   "outputs": [
    {
     "data": {
      "text/html": [
       "<div>\n",
       "<style scoped>\n",
       "    .dataframe tbody tr th:only-of-type {\n",
       "        vertical-align: middle;\n",
       "    }\n",
       "\n",
       "    .dataframe tbody tr th {\n",
       "        vertical-align: top;\n",
       "    }\n",
       "\n",
       "    .dataframe thead th {\n",
       "        text-align: right;\n",
       "    }\n",
       "</style>\n",
       "<table border=\"1\" class=\"dataframe\">\n",
       "  <thead>\n",
       "    <tr style=\"text-align: right;\">\n",
       "      <th></th>\n",
       "      <th>height</th>\n",
       "      <th>time</th>\n",
       "    </tr>\n",
       "  </thead>\n",
       "  <tbody>\n",
       "    <tr>\n",
       "      <th>0</th>\n",
       "      <td>205.74</td>\n",
       "      <td>0.61</td>\n",
       "    </tr>\n",
       "    <tr>\n",
       "      <th>1</th>\n",
       "      <td>205.74</td>\n",
       "      <td>0.57</td>\n",
       "    </tr>\n",
       "    <tr>\n",
       "      <th>2</th>\n",
       "      <td>205.74</td>\n",
       "      <td>0.72</td>\n",
       "    </tr>\n",
       "    <tr>\n",
       "      <th>3</th>\n",
       "      <td>205.74</td>\n",
       "      <td>0.74</td>\n",
       "    </tr>\n",
       "    <tr>\n",
       "      <th>4</th>\n",
       "      <td>205.74</td>\n",
       "      <td>0.65</td>\n",
       "    </tr>\n",
       "  </tbody>\n",
       "</table>\n",
       "</div>"
      ],
      "text/plain": [
       "   height  time\n",
       "0  205.74  0.61\n",
       "1  205.74  0.57\n",
       "2  205.74  0.72\n",
       "3  205.74  0.74\n",
       "4  205.74  0.65"
      ]
     },
     "execution_count": 1,
     "metadata": {},
     "output_type": "execute_result"
    }
   ],
   "source": [
    "#balldrop.ipynb\n",
    "#Author: Kyle Larson\n",
    "#purpose, demonstrate that there is acceleration due to gravity and practice scatterplotts\n",
    "import statistics\n",
    "import matplotlib.pyplot as plt\n",
    "import seaborn as sns\n",
    "import pandas as pd\n",
    "data = {'height':[], 'time':[]}\n",
    "data['height'] = [205.74,205.74,205.74,205.74,205.74,205.74,\n",
    "                  287.02, 287.02, 287.02, 287.02, 287.02, 287.02, \n",
    "                 246.38,246.38,246.38,246.38,246.38,246.38,\n",
    "                 190.5,190.5,190.5,190.5,190.5,190.5]\n",
    "data['time'] =[ .61,.57,.72,.74,.65,.68,\n",
    "               .55,.72,.55,.85,.72,.85,\n",
    "               .54,.74,.65,.76,.62,.67,\n",
    "               .64,.70,.64,.59,.64,.48,  ]\n",
    "fall_data = pd.DataFrame(data)\n",
    "fall_data.head()"
   ]
  },
  {
   "cell_type": "code",
   "execution_count": 2,
   "metadata": {},
   "outputs": [
    {
     "data": {
      "text/plain": [
       "<matplotlib.axes._subplots.AxesSubplot at 0x1d5c7ad3248>"
      ]
     },
     "execution_count": 2,
     "metadata": {},
     "output_type": "execute_result"
    },
    {
     "data": {
      "image/png": "[encoded data removed]",
      "text/plain": [
       "<Figure size 432x288 with 1 Axes>"
      ]
     },
     "metadata": {
      "needs_background": "light"
     },
     "output_type": "display_data"
    }
   ],
   "source": [
    "sns.scatterplot(x=fall_data['height'], y=fall_data['time'] )"
   ]
  },
  {
   "cell_type": "code",
   "execution_count": 3,
   "metadata": {},
   "outputs": [
    {
     "name": "stdout",
     "output_type": "stream",
     "text": [
      "[0.642, 0.6616666666666666, 0.6633333333333333, 0.678]\n",
      "0.6625 at 226.06\n"
     ]
    }
   ],
   "source": [
    "means = [ statistics.mean(data['time'][18:23]),\n",
    "         statistics.mean(data['time'][0:6]),  statistics.mean(data['time'][12:18]),\n",
    "         statistics.mean(data['time'][6:11]) ]\n",
    "print(means)\n",
    "print(str(statistics.mean(means[1:3]))+\" at \"+str(statistics.mean([data['height'][0],data['height'][13]])))\n"
   ]
  },
  {
   "cell_type": "code",
   "execution_count": 4,
   "metadata": {},
   "outputs": [],
   "source": [
    "prediction = {'height':[],'time':[]}\n",
    "for n in range(190, 287):\n",
    "    prediction['height'].append(n)\n",
    "    #prediction['time'].append()"
   ]
  },
  {
   "cell_type": "code",
   "execution_count": 5,
   "metadata": {},
   "outputs": [
    {
     "name": "stdout",
     "output_type": "stream",
     "text": [
      "{'height': [190, 191, 192, 193, 194, 195, 196, 197, 198, 199, 200, 201, 202, 203, 204, 205, 206, 207, 208, 209, 210, 211, 212, 213, 214, 215, 216, 217, 218, 219, 220, 221, 222, 223, 224, 225, 226, 227, 228, 229, 230, 231, 232, 233, 234, 235, 236, 237, 238, 239, 240, 241, 242, 243, 244, 245, 246, 247, 248, 249, 250, 251, 252, 253, 254, 255, 256, 257, 258, 259, 260, 261, 262, 263, 264, 265, 266, 267, 268, 269, 270, 271, 272, 273, 274, 275, 276, 277, 278, 279, 280, 281, 282, 283, 284, 285, 286], 'time': []}\n"
     ]
    }
   ],
   "source": [
    "print(prediction)"
   ]
  },
  {
   "cell_type": "code",
   "execution_count": 17,
   "metadata": {},
   "outputs": [
    {
     "name": "stdout",
     "output_type": "stream",
     "text": [
      "246.38\n",
      "0.6633333333333333\n",
      "Matrix : Matrix([[36290.2500000000, 190.500000000000, 1, 0.642000000000000], [60703.1044000000, 246.380000000000, 1, 0.663333333333333], [82380.4804000000, 287.020000000000, 1, 0.678000000000000]]) \n",
      "(Matrix([\n",
      "[1, 0, 0, -2.16308247608514e-7],\n",
      "[0, 1, 0, 0.000476271207725825],\n",
      "[0, 0, 1,    0.559120215311005]]), (0, 1, 2))\n"
     ]
    }
   ],
   "source": [
    "from numpy import array\n",
    "from sympy import *\n",
    "xmid = 246.38\n",
    "print(xmid)\n",
    "ymid = means[2]\n",
    "print(ymid)\n",
    "p1 = [190.5, means[0]]\n",
    "p2 = [287.02, means[len(means)-1]]\n",
    "M = Matrix([[p1[0]**2, p1[0], 1, p1[1]], [xmid**2, xmid, 1, ymid], [p2[0]**2, p2[0], 1, p2[1]]])\n",
    "print(\"Matrix : {} \".format(M))\n",
    "   \n",
    "# Use sympy.rref() method \n",
    "M_rref = M.rref()  \n",
    "print(M_rref)"
   ]
  },
  {
   "cell_type": "code",
   "execution_count": 18,
   "metadata": {},
   "outputs": [],
   "source": [
    "def quad(qc, x):\n",
    "    y = qc[0]*(x**2)+qc[1]*x+qc[2]\n",
    "    return y\n",
    "prediction['time'] = []\n",
    "for n in range(190, 287):\n",
    "    prediction['time'].append(quad([-2.16308247608514e-7,0.000476271207725825,0.559120215311005],n))"
   ]
  },
  {
   "cell_type": "code",
   "execution_count": 22,
   "metadata": {},
   "outputs": [
    {
     "data": {
      "text/plain": [
       "<matplotlib.collections.PathCollection at 0x1d58e0dfac8>"
      ]
     },
     "execution_count": 22,
     "metadata": {},
     "output_type": "execute_result"
    },
    {
     "data": {
      "image/png": "[encoded data removed]",
      "text/plain": [
       "<Figure size 432x288 with 1 Axes>"
      ]
     },
     "metadata": {
      "needs_background": "light"
     },
     "output_type": "display_data"
    }
   ],
   "source": [
    "import matplotlib.pyplot as plt\n",
    "plt.scatter(fall_data['height'], fall_data['time'], s=10, c='b', marker=\"s\", label='experimental')\n",
    "plt.scatter(prediction['height'],prediction['time'], s=10, c='r', marker=\"o\", label='quad')"
   ]
  },
  {
   "cell_type": "code",
   "execution_count": 20,
   "metadata": {},
   "outputs": [
    {
     "data": {
      "image/png": "[encoded data removed]",
      "text/plain": [
       "<Figure size 432x288 with 1 Axes>"
      ]
     },
     "metadata": {
      "needs_background": "light"
     },
     "output_type": "display_data"
    }
   ],
   "source": [
    "import numpy as np\n",
    "\n",
    "#polynomial fit with degree = 2\n",
    "model = np.poly1d(np.polyfit(data[\"height\"], data[\"time\"], 2))\n",
    "\n",
    "#add fitted polynomial line to scatterplot\n",
    "polyline = np.linspace(190, 290, 50)\n",
    "plt.scatter(data[\"height\"], data[\"time\"])\n",
    "plt.plot(polyline, model(polyline))\n",
    "plt.show()"
   ]
  },
  {
   "cell_type": "code",
   "execution_count": null,
   "metadata": {},
   "outputs": [],
   "source": []
  }
 ],
 "metadata": {
  "kernelspec": {
   "display_name": "Python 3",
   "language": "python",
   "name": "python3"
  },
  "language_info": {
   "codemirror_mode": {
    "name": "ipython",
    "version": 3
   },
   "file_extension": ".py",
   "mimetype": "text/x-python",
   "name": "python",
   "nbconvert_exporter": "python",
   "pygments_lexer": "ipython3",
   "version": "3.7.6"
  }
 },
 "nbformat": 4,
 "nbformat_minor": 4
}

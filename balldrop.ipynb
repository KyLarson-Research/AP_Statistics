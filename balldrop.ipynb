{
 "cells": [
  {
   "cell_type": "code",
   "execution_count": 8,
   "metadata": {},
   "outputs": [
    {
     "data": {
      "text/html": [
       "<div>\n",
       "<style scoped>\n",
       "    .dataframe tbody tr th:only-of-type {\n",
       "        vertical-align: middle;\n",
       "    }\n",
       "\n",
       "    .dataframe tbody tr th {\n",
       "        vertical-align: top;\n",
       "    }\n",
       "\n",
       "    .dataframe thead th {\n",
       "        text-align: right;\n",
       "    }\n",
       "</style>\n",
       "<table border=\"1\" class=\"dataframe\">\n",
       "  <thead>\n",
       "    <tr style=\"text-align: right;\">\n",
       "      <th></th>\n",
       "      <th>height</th>\n",
       "      <th>time</th>\n",
       "    </tr>\n",
       "  </thead>\n",
       "  <tbody>\n",
       "    <tr>\n",
       "      <th>0</th>\n",
       "      <td>205.74</td>\n",
       "      <td>0.61</td>\n",
       "    </tr>\n",
       "    <tr>\n",
       "      <th>1</th>\n",
       "      <td>205.74</td>\n",
       "      <td>0.57</td>\n",
       "    </tr>\n",
       "    <tr>\n",
       "      <th>2</th>\n",
       "      <td>205.74</td>\n",
       "      <td>0.72</td>\n",
       "    </tr>\n",
       "    <tr>\n",
       "      <th>3</th>\n",
       "      <td>205.74</td>\n",
       "      <td>0.74</td>\n",
       "    </tr>\n",
       "    <tr>\n",
       "      <th>4</th>\n",
       "      <td>205.74</td>\n",
       "      <td>0.65</td>\n",
       "    </tr>\n",
       "  </tbody>\n",
       "</table>\n",
       "</div>"
      ],
      "text/plain": [
       "   height  time\n",
       "0  205.74  0.61\n",
       "1  205.74  0.57\n",
       "2  205.74  0.72\n",
       "3  205.74  0.74\n",
       "4  205.74  0.65"
      ]
     },
     "execution_count": 8,
     "metadata": {},
     "output_type": "execute_result"
    }
   ],
   "source": [
    "#balldrop.ipynb\n",
    "#Author: Kyle Larson\n",
    "#purpose, demonstrate that there is acceleration due to gravity and practice scatterplotts\n",
    "import statistics\n",
    "import matplotlib.pyplot as plt\n",
    "import seaborn as sns\n",
    "import pandas as pd\n",
    "data = {'height':[], 'time':[]}\n",
    "data['height'] = [205.74,205.74,205.74,205.74,205.74,205.74,\n",
    "                  287.02, 287.02, 287.02, 287.02, 287.02, 287.02, \n",
    "                 246.38,246.38,246.38,246.38,246.38,246.38,\n",
    "                 190.5,190.5,190.5,190.5,190.5,190.5]\n",
    "data['time'] =[ .61,.57,.72,.74,.65,.68,\n",
    "               .55,.72,.55,.85,.72,.85,\n",
    "               .84,.74,.65,.76,.62,.67,\n",
    "               .64,.70,.64,.59,.64,.48,  ]\n",
    "fall_data = pd.DataFrame(data)\n",
    "fall_data.head()"
   ]
  },
  {
   "cell_type": "code",
   "execution_count": 9,
   "metadata": {},
   "outputs": [
    {
     "data": {
      "text/plain": [
       "<matplotlib.axes._subplots.AxesSubplot at 0x210337ebfc8>"
      ]
     },
     "execution_count": 9,
     "metadata": {},
     "output_type": "execute_result"
    },
    {
     "data": {
      "image/png": "[encoded data removed]",
      "text/plain": [
       "<Figure size 432x288 with 1 Axes>"
      ]
     },
     "metadata": {
      "needs_background": "light"
     },
     "output_type": "display_data"
    }
   ],
   "source": [
    "sns.scatterplot(x=fall_data['height'], y=fall_data['time'] )"
   ]
  },
  {
   "cell_type": "code",
   "execution_count": 10,
   "metadata": {},
   "outputs": [
    {
     "name": "stdout",
     "output_type": "stream",
     "text": [
      "[0.6616666666666666, 0.678, 0.7133333333333334, 0.642]\n",
      "0.6956666666666667 at 226.06\n"
     ]
    }
   ],
   "source": [
    "means = [ statistics.mean(data['time'][0:6]), statistics.mean(data['time'][6:11]), \n",
    "         statistics.mean(data['time'][12:18]), statistics.mean(data['time'][18:23])]\n",
    "print(means)\n",
    "print(str(statistics.mean(means[1:3]))+\" at \"+str(statistics.mean([data['height'][0],data['height'][13]])))\n"
   ]
  },
  {
   "cell_type": "code",
   "execution_count": 30,
   "metadata": {},
   "outputs": [],
   "source": [
    "prediction = {'height':[],'time':[]}\n",
    "for n in range(190, 287):\n",
    "    prediction['height'].append(n)\n",
    "    #prediction['time'].append()"
   ]
  },
  {
   "cell_type": "code",
   "execution_count": 31,
   "metadata": {},
   "outputs": [
    {
     "name": "stdout",
     "output_type": "stream",
     "text": [
      "{'height': [190, 191, 192, 193, 194, 195, 196, 197, 198, 199, 200, 201, 202, 203, 204, 205, 206, 207, 208, 209, 210, 211, 212, 213, 214, 215, 216, 217, 218, 219, 220, 221, 222, 223, 224, 225, 226, 227, 228, 229, 230, 231, 232, 233, 234, 235, 236, 237, 238, 239, 240, 241, 242, 243, 244, 245, 246, 247, 248, 249, 250, 251, 252, 253, 254, 255, 256, 257, 258, 259, 260, 261, 262, 263, 264, 265, 266, 267, 268, 269, 270, 271, 272, 273, 274, 275, 276, 277, 278, 279, 280, 281, 282, 283, 284, 285, 286], 'time': []}\n"
     ]
    }
   ],
   "source": [
    "print(prediction)"
   ]
  },
  {
   "cell_type": "code",
   "execution_count": 35,
   "metadata": {},
   "outputs": [
    {
     "name": "stdout",
     "output_type": "stream",
     "text": [
      "226.06\n",
      "0.6956666666666667\n",
      "[-0.0014772184914595681, 0.6395361729586986, -68.38740143911288]\n"
     ]
    }
   ],
   "source": [
    "def quadreg(p1, p2, p3):\n",
    "    y1, y2, y3=p1[1], p2[1], p3[1]\n",
    "    x1, x2, x3=p1[0], p2[0], p3[0]\n",
    "    zeta = y2-y1*x2**2/x1**2\n",
    "    phi=(1-x3**2/x1**2)+(-x3+x3**2/x1)*(1-x2**2/x1**2)/(x2-x2**2/x1)\n",
    "    psi=(y3-y1*x3**2/x1**2)+(-x3+x3*2/x1)*zeta/(x2-x2**2/x1)\n",
    "    c=psi/phi\n",
    "    \n",
    "    b=(zeta-(1-x2**2/x1**2)*c)/(x2-x2**2/x1)\n",
    "    a=(y1-c-x1*b)/x1**2\n",
    "    return [a, b, c]\n",
    "xmid =statistics.mean([data['height'][0],data['height'][13]])\n",
    "print(xmid)\n",
    "ymid =statistics.mean(means[1:3])\n",
    "print(ymid)\n",
    "p1 = [data['height'][0], means[0]]\n",
    "p2 = [data['height'][len(data['height'])-1], means[len(means)-1]]\n",
    "quad_coef= quadreg(p1, [xmid,ymid], p2)\n",
    "print(quad_coef)"
   ]
  },
  {
   "cell_type": "code",
   "execution_count": 33,
   "metadata": {},
   "outputs": [],
   "source": [
    "def quad(qc, x):\n",
    "    y = qc[0]*x**2+qc[1]*x+qc[2]\n",
    "    return y\n",
    "prediction['time'] = []\n",
    "for n in range(190, 287):\n",
    "    prediction['time'].append(quad(quad_coef,n))"
   ]
  },
  {
   "cell_type": "code",
   "execution_count": 34,
   "metadata": {},
   "outputs": [
    {
     "data": {
      "text/plain": [
       "<matplotlib.axes._subplots.AxesSubplot at 0x21078c2f408>"
      ]
     },
     "execution_count": 34,
     "metadata": {},
     "output_type": "execute_result"
    },
    {
     "data": {
      "image/png": "[encoded data removed]",
      "text/plain": [
       "<Figure size 432x288 with 1 Axes>"
      ]
     },
     "metadata": {
      "needs_background": "light"
     },
     "output_type": "display_data"
    }
   ],
   "source": [
    "sns.scatterplot(x=prediction['height'], y=prediction['time'] )"
   ]
  },
  {
   "cell_type": "code",
   "execution_count": null,
   "metadata": {},
   "outputs": [],
   "source": []
  }
 ],
 "metadata": {
  "kernelspec": {
   "display_name": "Python 3",
   "language": "python",
   "name": "python3"
  },
  "language_info": {
   "codemirror_mode": {
    "name": "ipython",
    "version": 3
   },
   "file_extension": ".py",
   "mimetype": "text/x-python",
   "name": "python",
   "nbconvert_exporter": "python",
   "pygments_lexer": "ipython3",
   "version": "3.7.6"
  }
 },
 "nbformat": 4,
 "nbformat_minor": 4
}

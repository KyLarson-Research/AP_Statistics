{
 "cells": [
  {
   "cell_type": "code",
   "execution_count": null,
   "metadata": {},
   "outputs": [],
   "source": [
    "#combiningmeans.ipynb\n",
    "#Author: Kyle Carlton Larson\n",
    "#Purpose: AP_Statistics Practice"
   ]
  },
  {
   "cell_type": "code",
   "execution_count": null,
   "metadata": {},
   "outputs": [],
   "source": [
    "#Maximum likelihood estimators, Method of moments estimator \n",
    "#calculate new P(TYPE I and II) | new mew\n",
    "#intermediate theorem : PRE CALC\n",
    "#IQR Q3-Q1\n",
    "#outlier 1.5IQR\n",
    "#chi squared\n",
    "#anova"
   ]
  },
  {
   "cell_type": "code",
   "execution_count": 12,
   "metadata": {},
   "outputs": [],
   "source": [
    "def avg(l):\n",
    "    xbar = sum(l)/(len(l))\n",
    "    return xbar"
   ]
  },
  {
   "cell_type": "code",
   "execution_count": 13,
   "metadata": {},
   "outputs": [
    {
     "name": "stdout",
     "output_type": "stream",
     "text": [
      "6.619047619047618\n"
     ]
    }
   ],
   "source": [
    "temps = [78,85,82,84,82,79,80]\n",
    "sigsq = 0\n",
    "Xbar = avg(temps)\n",
    "for temp in temps:\n",
    "    sigsq = sigsq+(temp-Xbar)**2\n",
    "sigsq = sigsq/(len(temps)-1) #n-1 because n<30\n",
    "print(sigsq) #answer was 6.62"
   ]
  },
  {
   "cell_type": "code",
   "execution_count": null,
   "metadata": {},
   "outputs": [],
   "source": [
    "#the middle line of a boxplot is the median"
   ]
  },
  {
   "cell_type": "code",
   "execution_count": 14,
   "metadata": {},
   "outputs": [
    {
     "name": "stdout",
     "output_type": "stream",
     "text": [
      "67.27272727272727\n"
     ]
    }
   ],
   "source": [
    "xbar1=65\n",
    "n1=18\n",
    "xbar2=70\n",
    "n2=15\n",
    "mean_both = (xbar1*n1 + xbar2*n2)/(n1+n2)\n",
    "print(mean_both) #67.3 was the answer"
   ]
  },
  {
   "cell_type": "code",
   "execution_count": null,
   "metadata": {},
   "outputs": [],
   "source": []
  }
 ],
 "metadata": {
  "kernelspec": {
   "display_name": "Python 3",
   "language": "python",
   "name": "python3"
  },
  "language_info": {
   "codemirror_mode": {
    "name": "ipython",
    "version": 3
   },
   "file_extension": ".py",
   "mimetype": "text/x-python",
   "name": "python",
   "nbconvert_exporter": "python",
   "pygments_lexer": "ipython3",
   "version": "3.7.6"
  }
 },
 "nbformat": 4,
 "nbformat_minor": 4
}

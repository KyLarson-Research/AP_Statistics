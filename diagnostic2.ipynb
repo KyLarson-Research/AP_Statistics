{
 "cells": [
  {
   "cell_type": "code",
   "execution_count": 2,
   "metadata": {},
   "outputs": [],
   "source": [
    "# diagnostic2.ipynb\n",
    "# author Kyle Larson\n",
    "# Purpose to complete the next AP Stats Diagnostic Test\n",
    "# note explore more F-stat test and power from\n",
    "#https://sphweb.bumc.bu.edu/otlt/MPH-Modules/BS/BS704_Power/BS704_Power_print.html#:~:text=In%20hypothesis%20testing%2C%20we%20usually,rejects%20a%20false%20null%20hypothesis.\n",
    "import numpy as np\n",
    "data = [15, 12, 10, 13]\n",
    "xbar = np.mean(data)"
   ]
  },
  {
   "cell_type": "code",
   "execution_count": 6,
   "metadata": {},
   "outputs": [
    {
     "name": "stdout",
     "output_type": "stream",
     "text": [
      "4.333333333333333\n"
     ]
    }
   ],
   "source": [
    "sigmasq =0\n",
    "for i in data:\n",
    "    sigmasq+=( i - xbar)**2\n",
    "sigmasq = sigmasq/(len(data)-1)\n",
    "print(sigmasq) #answer 4.33"
   ]
  },
  {
   "cell_type": "code",
   "execution_count": 7,
   "metadata": {},
   "outputs": [
    {
     "name": "stdout",
     "output_type": "stream",
     "text": [
      "0.6571428571428574\n"
     ]
    }
   ],
   "source": [
    "#q3\n",
    "zsc = 19.5 -17.2\n",
    "zsc = zsc/3.5\n",
    "print(zsc)#.66"
   ]
  },
  {
   "cell_type": "code",
   "execution_count": 8,
   "metadata": {},
   "outputs": [
    {
     "data": {
      "text/plain": [
       "85"
      ]
     },
     "execution_count": 8,
     "metadata": {},
     "output_type": "execute_result"
    }
   ],
   "source": [
    "#8\n",
    "2*5+75 #85 is answer"
   ]
  },
  {
   "cell_type": "code",
   "execution_count": null,
   "metadata": {},
   "outputs": [],
   "source": []
  }
 ],
 "metadata": {
  "kernelspec": {
   "display_name": "Python 3",
   "language": "python",
   "name": "python3"
  },
  "language_info": {
   "codemirror_mode": {
    "name": "ipython",
    "version": 3
   },
   "file_extension": ".py",
   "mimetype": "text/x-python",
   "name": "python",
   "nbconvert_exporter": "python",
   "pygments_lexer": "ipython3",
   "version": "3.7.6"
  }
 },
 "nbformat": 4,
 "nbformat_minor": 4
}

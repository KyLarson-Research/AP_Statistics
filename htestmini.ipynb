{
 "cells": [
  {
   "cell_type": "code",
   "execution_count": 23,
   "metadata": {},
   "outputs": [
    {
     "name": "stdout",
     "output_type": "stream",
     "text": [
      "2.0859634472658364\n",
      "1.959963984540054\n"
     ]
    }
   ],
   "source": [
    "# htestmini.ipynb\n",
    "# Author: Kyle Larson\n",
    "# Description: Hypothesis testing practice\n",
    "import scipy.stats as st\n",
    "print(st.t.ppf(.975, 20))\n",
    "print(st.norm.ppf(.975))"
   ]
  },
  {
   "cell_type": "code",
   "execution_count": 32,
   "metadata": {},
   "outputs": [],
   "source": [
    "set = [\n",
    "19.1,\n",
    "11.6,\n",
    "14.7,\n",
    "18.5,\n",
    "10.2,\n",
    "28.7,\n",
    "16.1,\n",
    "15.3,\n",
    "13.9,\n",
    "13.5,\n",
    "12.0,\n",
    "7.7,\n",
    "20.7,\n",
    "17.2,\n",
    "8.6,\n",
    "19.0,\n",
    "24.2,\n",
    "20.9,\n",
    "17.3,\n",
    "21.3,\n",
    "]"
   ]
  },
  {
   "cell_type": "code",
   "execution_count": 33,
   "metadata": {},
   "outputs": [
    {
     "name": "stdout",
     "output_type": "stream",
     "text": [
      "16.525\n",
      "5.151201316197999\n"
     ]
    }
   ],
   "source": [
    "import numpy as np\n",
    "print(np.mean(set))\n",
    "print(np.std(set))\n"
   ]
  },
  {
   "cell_type": "code",
   "execution_count": 34,
   "metadata": {},
   "outputs": [
    {
     "name": "stdout",
     "output_type": "stream",
     "text": [
      "19.013474742424624\n",
      "14.036525257575374\n"
     ]
    }
   ],
   "source": [
    "from math import sqrt\n",
    "print(2.0859634472658364*5.2/sqrt(19)+16.525)\n",
    "print(-2.0859634472658364*5.2/sqrt(19)+16.525)"
   ]
  },
  {
   "cell_type": "code",
   "execution_count": 35,
   "metadata": {},
   "outputs": [
    {
     "data": {
      "text/plain": [
       "20"
      ]
     },
     "execution_count": 35,
     "metadata": {},
     "output_type": "execute_result"
    }
   ],
   "source": [
    "len(set)"
   ]
  },
  {
   "cell_type": "code",
   "execution_count": 36,
   "metadata": {},
   "outputs": [
    {
     "name": "stdout",
     "output_type": "stream",
     "text": [
      "[243.72473252276154, 254.27526747723846]\n"
     ]
    }
   ],
   "source": [
    "#the fence lizart problem\n",
    "mean = 249\n",
    "s = 24\n",
    "n =56\n",
    "interval=[249-24*st.norm.ppf(.95)/sqrt(56),249+24*st.norm.ppf(.95)/sqrt(56)]\n",
    "print(interval) #243.63 and 254.36 is the actual answer"
   ]
  },
  {
   "cell_type": "code",
   "execution_count": null,
   "metadata": {},
   "outputs": [],
   "source": []
  }
 ],
 "metadata": {
  "kernelspec": {
   "display_name": "Python 3",
   "language": "python",
   "name": "python3"
  },
  "language_info": {
   "codemirror_mode": {
    "name": "ipython",
    "version": 3
   },
   "file_extension": ".py",
   "mimetype": "text/x-python",
   "name": "python",
   "nbconvert_exporter": "python",
   "pygments_lexer": "ipython3",
   "version": "3.7.6"
  }
 },
 "nbformat": 4,
 "nbformat_minor": 4
}

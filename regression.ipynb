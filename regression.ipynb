{
 "cells": [
  {
   "cell_type": "code",
   "execution_count": null,
   "metadata": {},
   "outputs": [],
   "source": [
    "# Regression.ipynb\n",
    "# Author: Kyle Carlton Larson\n",
    "# Purpose: to practice calculating regression line and confidence interval arround that line\n",
    "#1) You estimate a regression model with β=3.4 and SE=.024, where β is the beta coefficient and \n",
    "#SE is the standard error.  Construct 95% confidence intervals for β.\n",
    "#\n",
    "#2) Calculate the probability of type1 and type2 error \n",
    "#if the mean is actually some other specific mew"
   ]
  },
  {
   "cell_type": "code",
   "execution_count": 13,
   "metadata": {},
   "outputs": [
    {
     "name": "stdout",
     "output_type": "stream",
     "text": [
      "[3.3529608643710387, 3.447039135628961]\n"
     ]
    }
   ],
   "source": [
    "#B = sum (x-xbar)(y-ybar) / sum( (x-xbar)^2 )=\n",
    "#[ sum(xy) - sum(xy)/n ]/ [sum x-xbar ^2 = x^2 -(sum x^2)/n]\n",
    "#SE = SQRT ( sum (x-xbar)^2 / N )\n",
    "#attempt 1 assume beta is mean and se is sem = stdev/sqrt(n) and construct CI\n",
    "import scipy.stats as st\n",
    "mean=3.4\n",
    "sem=0.024\n",
    "confidence = 0.975\n",
    "interval = [mean - st.norm.ppf(confidence)*sem, mean + st.norm.ppf(confidence)*sem]\n",
    "print(interval) # actual answer was 3.35 to 3.45"
   ]
  },
  {
   "cell_type": "code",
   "execution_count": 12,
   "metadata": {},
   "outputs": [
    {
     "name": "stdout",
     "output_type": "stream",
     "text": [
      "78.0\n"
     ]
    }
   ],
   "source": [
    "# How many different football teams of 11 members may be created from 13 men, \n",
    "# without regard to the position played by any of the members?\n",
    "committe = 11\n",
    "candidates = 13\n",
    "#combinations = candidates-committe*candidates-committee-1 \"-2...\n",
    "#= (candidates!/committee!)/(candidates-committee)!\n",
    "combinations =13*12/2\n",
    "print(combinations) #answer is 78 ie 156/2"
   ]
  },
  {
   "cell_type": "code",
   "execution_count": null,
   "metadata": {},
   "outputs": [],
   "source": [
    "#note reject null if z>normppf(1-(1-confidence)/2) Outside the interval and P-v < alpha"
   ]
  },
  {
   "cell_type": "code",
   "execution_count": 10,
   "metadata": {},
   "outputs": [
    {
     "name": "stdout",
     "output_type": "stream",
     "text": [
      "187.5\n",
      "1.6448536269514722\n",
      "1.959963984540054\n",
      "1.7925163190605438\n"
     ]
    }
   ],
   "source": [
    "#Bob and Alvin suspect that the weight of the average man in Jackson, Mississippi is significantly different than the weight of the average man in Green Bay, Wisconsin. They sample 100 men in Jackson and find that the average weight is 191 lbs, and the sample standard deviation is 30 lbs.\n",
    "\n",
    "#They sample 100 men in Green Bay and find that the average weight is 184, and the sample standard deviation is 25.\n",
    "\n",
    "#Bob says that they should present a 95% 1-tailed test where the alternate hypothesis is:\n",
    "\n",
    "#H1:JM>GBW\n",
    "\n",
    "#and the null hypothesis is:\n",
    "\n",
    "#H0:JM≤GBW\n",
    "\n",
    "#Alvin disagrees; he says that a one-tailed test assumes that we already suspected a higher weight in Jackson. He recommends a 95% 2-tailed test where\n",
    "\n",
    "#H1:JM≠GBW\n",
    "\n",
    "#and\n",
    "\n",
    "#H0:JM=GBW.\n",
    "\n",
    "#_________\n",
    "# \t\n",
    "\n",
    "#Show why the 1-tailed test rejects its null hypothesis \n",
    "#and the 2-tailed test fails to reject its null hypothesis. Provide the following:\n",
    "import scipy.stats as st\n",
    "from math import sqrt\n",
    "mean1 =191\n",
    "mean2 =184\n",
    "\n",
    "print(mew)\n",
    "n1 =100\n",
    "n2 = 100\n",
    "sd1 =30\n",
    "sd2 = 25\n",
    "sem = (sd)/(sqrt(n))#)\n",
    "confidence = 0.95\n",
    "one_tail = st.norm.ppf(confidence)\n",
    "two_tail = st.norm.ppf(1-(1-confidence)/2)\n",
    "#interval = [mean - st.norm.ppf(confidence)*sem, mean + st.norm.ppf(confididence)*sem]\n",
    "print(one_tail) \n",
    "print(two_tail) \n",
    "#The standard deviation of the difference between sample means (σd) is approximately equal to:\n",
    "#https://stattrek.com/sampling/difference-in-means.aspx\n",
    "\n",
    "sd_dif =  sqrt( sd1**2 / n1 + sd2**2 / n2 )\n",
    "samp_dif = (mean1-mean2)/sd_dif\n",
    "print(samp_dif) #answer was 1.79"
   ]
  },
  {
   "cell_type": "code",
   "execution_count": null,
   "metadata": {},
   "outputs": [],
   "source": []
  },
  {
   "cell_type": "code",
   "execution_count": null,
   "metadata": {},
   "outputs": [],
   "source": []
  }
 ],
 "metadata": {
  "kernelspec": {
   "display_name": "Python 3",
   "language": "python",
   "name": "python3"
  }
 },
 "nbformat": 4,
 "nbformat_minor": 4
}
